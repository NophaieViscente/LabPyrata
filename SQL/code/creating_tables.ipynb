{
 "cells": [
  {
   "cell_type": "markdown",
   "metadata": {},
   "source": [
    "#### Importing Libs"
   ]
  },
  {
   "cell_type": "code",
   "execution_count": 1,
   "metadata": {},
   "outputs": [],
   "source": [
    "import sqlalchemy as sql\n",
    "import pandas as pd\n",
    "from dotenv import load_dotenv\n",
    "import os\n",
    "import glob\n",
    "import re\n",
    "from slugify import slugify\n",
    "import numpy as np\n",
    "import time\n",
    "from SQLeto import SQLeto"
   ]
  },
  {
   "cell_type": "markdown",
   "metadata": {},
   "source": [
    "#### Loading enviroment vars"
   ]
  },
  {
   "cell_type": "code",
   "execution_count": 2,
   "metadata": {},
   "outputs": [],
   "source": [
    "load_dotenv('..\\.env')\n",
    "DATABASE_EXERCISE = os.getenv('DATABASE_EXERCISE')\n",
    "USER_EXERCISE = os.getenv('USER_EXERCISE')\n",
    "PWD_EXERCISE = os.getenv('PWD_EXERCISE')\n",
    "TABLES_PATH = os.getenv('TABLES_PATH')\n",
    "PROCESSED_DATA_PATH = os.getenv('PROCESSED_DATA_PATH')"
   ]
  },
  {
   "cell_type": "markdown",
   "metadata": {},
   "source": [
    "#### Load dataframes"
   ]
  },
  {
   "cell_type": "code",
   "execution_count": 3,
   "metadata": {},
   "outputs": [],
   "source": [
    "# load .csv of companies\n",
    "df_companies = pd.read_csv(\n",
    "    TABLES_PATH+'companies.csv', \n",
    "    parse_dates=['FOUNDING_DATE'])\n",
    "        \n",
    "# load .csv of people\n",
    "df_people = pd.read_csv(\n",
    "    TABLES_PATH+'people.csv', \n",
    "    parse_dates=[\n",
    "        'GROUP_START_DATE',\n",
    "        'GROUP_END_DATE'])"
   ]
  },
  {
   "cell_type": "code",
   "execution_count": 4,
   "metadata": {},
   "outputs": [
    {
     "data": {
      "text/html": [
       "<div>\n",
       "<style scoped>\n",
       "    .dataframe tbody tr th:only-of-type {\n",
       "        vertical-align: middle;\n",
       "    }\n",
       "\n",
       "    .dataframe tbody tr th {\n",
       "        vertical-align: top;\n",
       "    }\n",
       "\n",
       "    .dataframe thead th {\n",
       "        text-align: right;\n",
       "    }\n",
       "</style>\n",
       "<table border=\"1\" class=\"dataframe\">\n",
       "  <thead>\n",
       "    <tr style=\"text-align: right;\">\n",
       "      <th></th>\n",
       "      <th>NAME</th>\n",
       "      <th>COMPANY_LINKEDIN_NAMES</th>\n",
       "      <th>DESCRIPTION</th>\n",
       "      <th>HEADCOUNT</th>\n",
       "      <th>FOUNDING_DATE</th>\n",
       "      <th>MOST_RECENT_RAISE</th>\n",
       "      <th>MOST_RECENT_VALUATION</th>\n",
       "      <th>INVESTORS</th>\n",
       "      <th>KNOWN_TOTAL_FUNDING</th>\n",
       "    </tr>\n",
       "  </thead>\n",
       "  <tbody>\n",
       "    <tr>\n",
       "      <th>0</th>\n",
       "      <td>ORSYP</td>\n",
       "      <td>[\\n  \"orsyp\"\\n]</td>\n",
       "      <td>IT Operations Management Specialists At ORSYP ...</td>\n",
       "      <td>63.0</td>\n",
       "      <td>1986-01-01</td>\n",
       "      <td>NaN</td>\n",
       "      <td>NaN</td>\n",
       "      <td>NaN</td>\n",
       "      <td>NaN</td>\n",
       "    </tr>\n",
       "    <tr>\n",
       "      <th>1</th>\n",
       "      <td>Runwal</td>\n",
       "      <td>[\\n  \"runwal\"\\n]</td>\n",
       "      <td>The Runwal Group was established in 1978 by it...</td>\n",
       "      <td>406.0</td>\n",
       "      <td>1978-01-01</td>\n",
       "      <td>NaN</td>\n",
       "      <td>NaN</td>\n",
       "      <td>[\\n  \"Brand Capital\"\\n]</td>\n",
       "      <td>NaN</td>\n",
       "    </tr>\n",
       "    <tr>\n",
       "      <th>2</th>\n",
       "      <td>Toast</td>\n",
       "      <td>[\\n  \"toast-inc\"\\n]</td>\n",
       "      <td>Toast empowers restaurants of all sizes to bui...</td>\n",
       "      <td>3580.0</td>\n",
       "      <td>2011-12-22</td>\n",
       "      <td>400000000.0</td>\n",
       "      <td>4.900000e+09</td>\n",
       "      <td>[\\n  \"Eight Roads Ventures\",\\n  \"Greenoaks Cap...</td>\n",
       "      <td>899000000.0</td>\n",
       "    </tr>\n",
       "    <tr>\n",
       "      <th>3</th>\n",
       "      <td>DNA Medicine Institute</td>\n",
       "      <td>[\\n  \"dna-medicine-institute\"\\n]</td>\n",
       "      <td>The DNA Medicine Institute, Inc. (DMI) is a me...</td>\n",
       "      <td>2.0</td>\n",
       "      <td>2004-01-01</td>\n",
       "      <td>NaN</td>\n",
       "      <td>NaN</td>\n",
       "      <td>NaN</td>\n",
       "      <td>NaN</td>\n",
       "    </tr>\n",
       "    <tr>\n",
       "      <th>4</th>\n",
       "      <td>Ally</td>\n",
       "      <td>[\\n  \"ally\"\\n]</td>\n",
       "      <td>Ally Financial Inc. (NYSE: ALLY) is a leading ...</td>\n",
       "      <td>12120.0</td>\n",
       "      <td>1919-01-01</td>\n",
       "      <td>NaN</td>\n",
       "      <td>NaN</td>\n",
       "      <td>NaN</td>\n",
       "      <td>NaN</td>\n",
       "    </tr>\n",
       "  </tbody>\n",
       "</table>\n",
       "</div>"
      ],
      "text/plain": [
       "                     NAME            COMPANY_LINKEDIN_NAMES  \\\n",
       "0                   ORSYP                   [\\n  \"orsyp\"\\n]   \n",
       "1                  Runwal                  [\\n  \"runwal\"\\n]   \n",
       "2                   Toast               [\\n  \"toast-inc\"\\n]   \n",
       "3  DNA Medicine Institute  [\\n  \"dna-medicine-institute\"\\n]   \n",
       "4                    Ally                    [\\n  \"ally\"\\n]   \n",
       "\n",
       "                                         DESCRIPTION  HEADCOUNT FOUNDING_DATE  \\\n",
       "0  IT Operations Management Specialists At ORSYP ...       63.0    1986-01-01   \n",
       "1  The Runwal Group was established in 1978 by it...      406.0    1978-01-01   \n",
       "2  Toast empowers restaurants of all sizes to bui...     3580.0    2011-12-22   \n",
       "3  The DNA Medicine Institute, Inc. (DMI) is a me...        2.0    2004-01-01   \n",
       "4  Ally Financial Inc. (NYSE: ALLY) is a leading ...    12120.0    1919-01-01   \n",
       "\n",
       "   MOST_RECENT_RAISE  MOST_RECENT_VALUATION  \\\n",
       "0                NaN                    NaN   \n",
       "1                NaN                    NaN   \n",
       "2        400000000.0           4.900000e+09   \n",
       "3                NaN                    NaN   \n",
       "4                NaN                    NaN   \n",
       "\n",
       "                                           INVESTORS  KNOWN_TOTAL_FUNDING  \n",
       "0                                                NaN                  NaN  \n",
       "1                            [\\n  \"Brand Capital\"\\n]                  NaN  \n",
       "2  [\\n  \"Eight Roads Ventures\",\\n  \"Greenoaks Cap...          899000000.0  \n",
       "3                                                NaN                  NaN  \n",
       "4                                                NaN                  NaN  "
      ]
     },
     "metadata": {},
     "output_type": "display_data"
    },
    {
     "name": "stdout",
     "output_type": "stream",
     "text": [
      "<class 'pandas.core.frame.DataFrame'>\n",
      "RangeIndex: 10711 entries, 0 to 10710\n",
      "Data columns (total 9 columns):\n",
      " #   Column                  Non-Null Count  Dtype  \n",
      "---  ------                  --------------  -----  \n",
      " 0   NAME                    10711 non-null  object \n",
      " 1   COMPANY_LINKEDIN_NAMES  10711 non-null  object \n",
      " 2   DESCRIPTION             10679 non-null  object \n",
      " 3   HEADCOUNT               6283 non-null   float64\n",
      " 4   FOUNDING_DATE           9230 non-null   object \n",
      " 5   MOST_RECENT_RAISE       2110 non-null   float64\n",
      " 6   MOST_RECENT_VALUATION   419 non-null    float64\n",
      " 7   INVESTORS               3139 non-null   object \n",
      " 8   KNOWN_TOTAL_FUNDING     2349 non-null   float64\n",
      "dtypes: float64(4), object(5)\n",
      "memory usage: 753.2+ KB\n"
     ]
    },
    {
     "data": {
      "text/plain": [
       "(None, None)"
      ]
     },
     "execution_count": 4,
     "metadata": {},
     "output_type": "execute_result"
    }
   ],
   "source": [
    "# Preview of data companies\n",
    "display(df_companies.head()), df_companies.info()"
   ]
  },
  {
   "cell_type": "code",
   "execution_count": 5,
   "metadata": {},
   "outputs": [
    {
     "data": {
      "text/html": [
       "<div>\n",
       "<style scoped>\n",
       "    .dataframe tbody tr th:only-of-type {\n",
       "        vertical-align: middle;\n",
       "    }\n",
       "\n",
       "    .dataframe tbody tr th {\n",
       "        vertical-align: top;\n",
       "    }\n",
       "\n",
       "    .dataframe thead th {\n",
       "        text-align: right;\n",
       "    }\n",
       "</style>\n",
       "<table border=\"1\" class=\"dataframe\">\n",
       "  <thead>\n",
       "    <tr style=\"text-align: right;\">\n",
       "      <th></th>\n",
       "      <th>PERSON_ID</th>\n",
       "      <th>COMPANY_NAME</th>\n",
       "      <th>COMPANY_LI_NAME</th>\n",
       "      <th>LAST_TITLE</th>\n",
       "      <th>GROUP_START_DATE</th>\n",
       "      <th>GROUP_END_DATE</th>\n",
       "    </tr>\n",
       "  </thead>\n",
       "  <tbody>\n",
       "    <tr>\n",
       "      <th>0</th>\n",
       "      <td>9fb750ce-4acd-40d6-a58b-f6718342364f</td>\n",
       "      <td>GoCardless</td>\n",
       "      <td>gocardless</td>\n",
       "      <td>Software Engineer</td>\n",
       "      <td>2019-01-01</td>\n",
       "      <td>2020-01-01</td>\n",
       "    </tr>\n",
       "    <tr>\n",
       "      <th>1</th>\n",
       "      <td>9fb750ce-4acd-40d6-a58b-f6718342364f</td>\n",
       "      <td>Stealth startup</td>\n",
       "      <td>online-shoe-store</td>\n",
       "      <td>Founder / CTO</td>\n",
       "      <td>2018-01-01</td>\n",
       "      <td>2019-01-01</td>\n",
       "    </tr>\n",
       "    <tr>\n",
       "      <th>2</th>\n",
       "      <td>9fb750ce-4acd-40d6-a58b-f6718342364f</td>\n",
       "      <td>Arkera</td>\n",
       "      <td>arkera</td>\n",
       "      <td>Software Engineer</td>\n",
       "      <td>2017-01-01</td>\n",
       "      <td>2018-01-01</td>\n",
       "    </tr>\n",
       "    <tr>\n",
       "      <th>3</th>\n",
       "      <td>9fb750ce-4acd-40d6-a58b-f6718342364f</td>\n",
       "      <td>Imperial College London</td>\n",
       "      <td>imperial-college-london</td>\n",
       "      <td>UTA (Undergraduate Teaching Assistant)</td>\n",
       "      <td>2016-01-01</td>\n",
       "      <td>2017-01-01</td>\n",
       "    </tr>\n",
       "    <tr>\n",
       "      <th>4</th>\n",
       "      <td>15f5d8ed-36ad-4cf7-8748-c50dc9589f59</td>\n",
       "      <td>Splunk</td>\n",
       "      <td>splunk</td>\n",
       "      <td>Software Engineer</td>\n",
       "      <td>2019-10-01</td>\n",
       "      <td>NaT</td>\n",
       "    </tr>\n",
       "  </tbody>\n",
       "</table>\n",
       "</div>"
      ],
      "text/plain": [
       "                              PERSON_ID             COMPANY_NAME  \\\n",
       "0  9fb750ce-4acd-40d6-a58b-f6718342364f               GoCardless   \n",
       "1  9fb750ce-4acd-40d6-a58b-f6718342364f          Stealth startup   \n",
       "2  9fb750ce-4acd-40d6-a58b-f6718342364f                   Arkera   \n",
       "3  9fb750ce-4acd-40d6-a58b-f6718342364f  Imperial College London   \n",
       "4  15f5d8ed-36ad-4cf7-8748-c50dc9589f59                   Splunk   \n",
       "\n",
       "           COMPANY_LI_NAME                              LAST_TITLE  \\\n",
       "0               gocardless                       Software Engineer   \n",
       "1        online-shoe-store                           Founder / CTO   \n",
       "2                   arkera                       Software Engineer   \n",
       "3  imperial-college-london  UTA (Undergraduate Teaching Assistant)   \n",
       "4                   splunk                       Software Engineer   \n",
       "\n",
       "  GROUP_START_DATE GROUP_END_DATE  \n",
       "0       2019-01-01     2020-01-01  \n",
       "1       2018-01-01     2019-01-01  \n",
       "2       2017-01-01     2018-01-01  \n",
       "3       2016-01-01     2017-01-01  \n",
       "4       2019-10-01            NaT  "
      ]
     },
     "metadata": {},
     "output_type": "display_data"
    },
    {
     "name": "stdout",
     "output_type": "stream",
     "text": [
      "<class 'pandas.core.frame.DataFrame'>\n",
      "RangeIndex: 5391 entries, 0 to 5390\n",
      "Data columns (total 6 columns):\n",
      " #   Column            Non-Null Count  Dtype         \n",
      "---  ------            --------------  -----         \n",
      " 0   PERSON_ID         5391 non-null   object        \n",
      " 1   COMPANY_NAME      5390 non-null   object        \n",
      " 2   COMPANY_LI_NAME   4471 non-null   object        \n",
      " 3   LAST_TITLE        5391 non-null   object        \n",
      " 4   GROUP_START_DATE  5348 non-null   datetime64[ns]\n",
      " 5   GROUP_END_DATE    4187 non-null   datetime64[ns]\n",
      "dtypes: datetime64[ns](2), object(4)\n",
      "memory usage: 252.8+ KB\n"
     ]
    },
    {
     "data": {
      "text/plain": [
       "(None, None)"
      ]
     },
     "execution_count": 5,
     "metadata": {},
     "output_type": "execute_result"
    }
   ],
   "source": [
    "# Preview of data people\n",
    "display(df_people.head()),df_people.info()"
   ]
  },
  {
   "cell_type": "markdown",
   "metadata": {},
   "source": [
    "#### Processing data"
   ]
  },
  {
   "cell_type": "code",
   "execution_count": 6,
   "metadata": {},
   "outputs": [],
   "source": [
    "# Dropping line with no company name\n",
    "df_people = df_people.drop(\n",
    "    df_people[\n",
    "        df_people['COMPANY_NAME'].isna()].index,axis=0).reset_index(\n",
    "            drop=True)"
   ]
  },
  {
   "cell_type": "code",
   "execution_count": 7,
   "metadata": {},
   "outputs": [],
   "source": [
    "# Treating column COMPANY_LINKEDIN_NAMES\n",
    "df_companies['COMPANY_LINKEDIN_NAMES'] = df_companies.COMPANY_LINKEDIN_NAMES.apply(lambda x: eval(x))\n",
    "df_companies['COMPANY_LINKEDIN_NAMES'] = df_companies.COMPANY_LINKEDIN_NAMES.apply(lambda x: x[0] if len(x) > 0 else np.NaN)\n",
    "# Treating column INVESTORS\n",
    "df_companies['INVESTORS'] = df_companies.INVESTORS.fillna('[]').apply(lambda x: eval(x))\n",
    "df_companies['INVESTORS'] = df_companies.INVESTORS.apply(lambda x: ', '.join(x))"
   ]
  },
  {
   "cell_type": "code",
   "execution_count": 8,
   "metadata": {},
   "outputs": [
    {
     "data": {
      "text/html": [
       "<div>\n",
       "<style scoped>\n",
       "    .dataframe tbody tr th:only-of-type {\n",
       "        vertical-align: middle;\n",
       "    }\n",
       "\n",
       "    .dataframe tbody tr th {\n",
       "        vertical-align: top;\n",
       "    }\n",
       "\n",
       "    .dataframe thead th {\n",
       "        text-align: right;\n",
       "    }\n",
       "</style>\n",
       "<table border=\"1\" class=\"dataframe\">\n",
       "  <thead>\n",
       "    <tr style=\"text-align: right;\">\n",
       "      <th></th>\n",
       "      <th>NAME</th>\n",
       "      <th>COMPANY_LINKEDIN_NAMES</th>\n",
       "      <th>DESCRIPTION</th>\n",
       "      <th>HEADCOUNT</th>\n",
       "      <th>FOUNDING_DATE</th>\n",
       "      <th>MOST_RECENT_RAISE</th>\n",
       "      <th>MOST_RECENT_VALUATION</th>\n",
       "      <th>INVESTORS</th>\n",
       "      <th>KNOWN_TOTAL_FUNDING</th>\n",
       "    </tr>\n",
       "  </thead>\n",
       "  <tbody>\n",
       "    <tr>\n",
       "      <th>0</th>\n",
       "      <td>ORSYP</td>\n",
       "      <td>orsyp</td>\n",
       "      <td>IT Operations Management Specialists At ORSYP ...</td>\n",
       "      <td>63.0</td>\n",
       "      <td>1986-01-01</td>\n",
       "      <td>NaN</td>\n",
       "      <td>NaN</td>\n",
       "      <td></td>\n",
       "      <td>NaN</td>\n",
       "    </tr>\n",
       "    <tr>\n",
       "      <th>1</th>\n",
       "      <td>Runwal</td>\n",
       "      <td>runwal</td>\n",
       "      <td>The Runwal Group was established in 1978 by it...</td>\n",
       "      <td>406.0</td>\n",
       "      <td>1978-01-01</td>\n",
       "      <td>NaN</td>\n",
       "      <td>NaN</td>\n",
       "      <td>Brand Capital</td>\n",
       "      <td>NaN</td>\n",
       "    </tr>\n",
       "    <tr>\n",
       "      <th>2</th>\n",
       "      <td>Toast</td>\n",
       "      <td>toast-inc</td>\n",
       "      <td>Toast empowers restaurants of all sizes to bui...</td>\n",
       "      <td>3580.0</td>\n",
       "      <td>2011-12-22</td>\n",
       "      <td>400000000.0</td>\n",
       "      <td>4.900000e+09</td>\n",
       "      <td>Eight Roads Ventures, Greenoaks Capital, T. Ro...</td>\n",
       "      <td>899000000.0</td>\n",
       "    </tr>\n",
       "    <tr>\n",
       "      <th>3</th>\n",
       "      <td>DNA Medicine Institute</td>\n",
       "      <td>dna-medicine-institute</td>\n",
       "      <td>The DNA Medicine Institute, Inc. (DMI) is a me...</td>\n",
       "      <td>2.0</td>\n",
       "      <td>2004-01-01</td>\n",
       "      <td>NaN</td>\n",
       "      <td>NaN</td>\n",
       "      <td></td>\n",
       "      <td>NaN</td>\n",
       "    </tr>\n",
       "    <tr>\n",
       "      <th>4</th>\n",
       "      <td>Ally</td>\n",
       "      <td>ally</td>\n",
       "      <td>Ally Financial Inc. (NYSE: ALLY) is a leading ...</td>\n",
       "      <td>12120.0</td>\n",
       "      <td>1919-01-01</td>\n",
       "      <td>NaN</td>\n",
       "      <td>NaN</td>\n",
       "      <td></td>\n",
       "      <td>NaN</td>\n",
       "    </tr>\n",
       "  </tbody>\n",
       "</table>\n",
       "</div>"
      ],
      "text/plain": [
       "                     NAME  COMPANY_LINKEDIN_NAMES  \\\n",
       "0                   ORSYP                   orsyp   \n",
       "1                  Runwal                  runwal   \n",
       "2                   Toast               toast-inc   \n",
       "3  DNA Medicine Institute  dna-medicine-institute   \n",
       "4                    Ally                    ally   \n",
       "\n",
       "                                         DESCRIPTION  HEADCOUNT FOUNDING_DATE  \\\n",
       "0  IT Operations Management Specialists At ORSYP ...       63.0    1986-01-01   \n",
       "1  The Runwal Group was established in 1978 by it...      406.0    1978-01-01   \n",
       "2  Toast empowers restaurants of all sizes to bui...     3580.0    2011-12-22   \n",
       "3  The DNA Medicine Institute, Inc. (DMI) is a me...        2.0    2004-01-01   \n",
       "4  Ally Financial Inc. (NYSE: ALLY) is a leading ...    12120.0    1919-01-01   \n",
       "\n",
       "   MOST_RECENT_RAISE  MOST_RECENT_VALUATION  \\\n",
       "0                NaN                    NaN   \n",
       "1                NaN                    NaN   \n",
       "2        400000000.0           4.900000e+09   \n",
       "3                NaN                    NaN   \n",
       "4                NaN                    NaN   \n",
       "\n",
       "                                           INVESTORS  KNOWN_TOTAL_FUNDING  \n",
       "0                                                                     NaN  \n",
       "1                                      Brand Capital                  NaN  \n",
       "2  Eight Roads Ventures, Greenoaks Capital, T. Ro...          899000000.0  \n",
       "3                                                                     NaN  \n",
       "4                                                                     NaN  "
      ]
     },
     "execution_count": 8,
     "metadata": {},
     "output_type": "execute_result"
    }
   ],
   "source": [
    "df_companies.head()"
   ]
  },
  {
   "cell_type": "code",
   "execution_count": 9,
   "metadata": {},
   "outputs": [],
   "source": [
    "# Construct linkedin names to empty data in df_companies\n",
    "index = df_companies.loc[df_companies['COMPANY_LINKEDIN_NAMES'].isna()].index\n",
    "for idx in index :\n",
    "    df_companies.loc[idx, 'COMPANY_LINKEDIN_NAMES'] = slugify(df_companies.loc[idx]['NAME'])"
   ]
  },
  {
   "cell_type": "code",
   "execution_count": null,
   "metadata": {},
   "outputs": [],
   "source": []
  },
  {
   "cell_type": "code",
   "execution_count": 10,
   "metadata": {},
   "outputs": [],
   "source": [
    "# Construct linkedin names to empty data in df_companies\n",
    "index = df_people.loc[df_people['COMPANY_LI_NAME'].isna()].index\n",
    "for idx in index :\n",
    "    df_people.loc[idx, 'COMPANY_LI_NAME'] = slugify(df_people.loc[idx]['COMPANY_NAME'])"
   ]
  },
  {
   "cell_type": "code",
   "execution_count": 11,
   "metadata": {},
   "outputs": [],
   "source": [
    "df_companies = df_companies.reset_index().rename(columns={'index':'company_id'})\n",
    "df_people = df_people.reset_index().rename(columns={'index':'people_id'})"
   ]
  },
  {
   "cell_type": "code",
   "execution_count": 12,
   "metadata": {},
   "outputs": [
    {
     "name": "stdout",
     "output_type": "stream",
     "text": [
      "Interseções entre as tabelas : 1717\n"
     ]
    }
   ],
   "source": [
    "# Verifying number of intersection between tables, using with reference Linkedin names in both tables.\n",
    "print(f'''Interseções entre as tabelas : {\n",
    "    len(\n",
    "        df_companies[\n",
    "            df_companies.COMPANY_LINKEDIN_NAMES.isin(\n",
    "                df_people.COMPANY_LI_NAME)])}''')"
   ]
  },
  {
   "cell_type": "markdown",
   "metadata": {},
   "source": [
    "#### Instance Object SQLeto"
   ]
  },
  {
   "cell_type": "code",
   "execution_count": 13,
   "metadata": {},
   "outputs": [],
   "source": [
    "sqleto = SQLeto(DATABASE_EXERCISE, USER_EXERCISE, PWD_EXERCISE)"
   ]
  },
  {
   "cell_type": "code",
   "execution_count": 14,
   "metadata": {},
   "outputs": [
    {
     "data": {
      "text/plain": [
       "<sqlalchemy.engine.cursor.LegacyCursorResult at 0x1953188eda0>"
      ]
     },
     "execution_count": 14,
     "metadata": {},
     "output_type": "execute_result"
    }
   ],
   "source": [
    "sqleto.execute_DDL(\n",
    "    ''' DROP TABLE IF EXISTS companies CASCADE;\n",
    "        DROP TABLE IF EXISTS people CASCADE;\n",
    "    ''')"
   ]
  },
  {
   "cell_type": "code",
   "execution_count": 15,
   "metadata": {},
   "outputs": [
    {
     "data": {
      "text/plain": [
       "<sqlalchemy.engine.cursor.LegacyCursorResult at 0x195318b29b0>"
      ]
     },
     "execution_count": 15,
     "metadata": {},
     "output_type": "execute_result"
    }
   ],
   "source": [
    "sqleto.execute_DDL(\n",
    "    sqleto.creating_tables(df_companies, 'companies', 'company_id'))"
   ]
  },
  {
   "cell_type": "code",
   "execution_count": 16,
   "metadata": {},
   "outputs": [
    {
     "data": {
      "text/plain": [
       "'CREATE TABLE companies(company_id INTEGER,NAME VARCHAR(178),COMPANY_LINKEDIN_NAMES VARCHAR(203),DESCRIPTION TEXT,HEADCOUNT REAL,FOUNDING_DATE VARCHAR(60),MOST_RECENT_RAISE REAL,MOST_RECENT_VALUATION REAL,INVESTORS TEXT,KNOWN_TOTAL_FUNDING REAL,PRIMARY KEY (company_id));'"
      ]
     },
     "execution_count": 16,
     "metadata": {},
     "output_type": "execute_result"
    }
   ],
   "source": [
    "sqleto.creating_tables(df_companies, 'companies', 'company_id')"
   ]
  },
  {
   "cell_type": "code",
   "execution_count": 17,
   "metadata": {},
   "outputs": [
    {
     "data": {
      "text/plain": [
       "<sqlalchemy.engine.cursor.LegacyCursorResult at 0x195318b3be0>"
      ]
     },
     "execution_count": 17,
     "metadata": {},
     "output_type": "execute_result"
    }
   ],
   "source": [
    "sqleto.execute_DDL(\n",
    "    sqleto.creating_tables(\n",
    "        dataframe=df_people,\n",
    "        name_table='people',\n",
    "        primary_key='people_id'))"
   ]
  },
  {
   "cell_type": "code",
   "execution_count": 18,
   "metadata": {},
   "outputs": [],
   "source": [
    "df_companies.columns = [c.lower() for c in df_companies.columns]\n",
    "df_people.columns = [c.lower() for c in df_people.columns]"
   ]
  },
  {
   "cell_type": "markdown",
   "metadata": {},
   "source": [
    "#### Save dataframes in processed data"
   ]
  },
  {
   "cell_type": "code",
   "execution_count": 19,
   "metadata": {},
   "outputs": [],
   "source": [
    "df_companies.to_csv(PROCESSED_DATA_PATH+'companies.csv', index=False)\n",
    "df_people.to_csv(PROCESSED_DATA_PATH+'people.csv', index=False)"
   ]
  },
  {
   "cell_type": "markdown",
   "metadata": {},
   "source": [
    "#### Adding data to PostgreSQL"
   ]
  },
  {
   "cell_type": "code",
   "execution_count": 20,
   "metadata": {},
   "outputs": [
    {
     "name": "stdout",
     "output_type": "stream",
     "text": [
      "Saving table companies\n",
      "Table companies saved!\n",
      "\n",
      "Saving table people\n",
      "Table people saved!\n",
      "\n"
     ]
    }
   ],
   "source": [
    "sqleto.send_dataframes_to_tables(PROCESSED_DATA_PATH, if_exists_='append')"
   ]
  },
  {
   "cell_type": "markdown",
   "metadata": {},
   "source": [
    "#### Verify data uploaded"
   ]
  },
  {
   "cell_type": "code",
   "execution_count": 21,
   "metadata": {},
   "outputs": [
    {
     "data": {
      "text/html": [
       "<div>\n",
       "<style scoped>\n",
       "    .dataframe tbody tr th:only-of-type {\n",
       "        vertical-align: middle;\n",
       "    }\n",
       "\n",
       "    .dataframe tbody tr th {\n",
       "        vertical-align: top;\n",
       "    }\n",
       "\n",
       "    .dataframe thead th {\n",
       "        text-align: right;\n",
       "    }\n",
       "</style>\n",
       "<table border=\"1\" class=\"dataframe\">\n",
       "  <thead>\n",
       "    <tr style=\"text-align: right;\">\n",
       "      <th></th>\n",
       "      <th>company_id</th>\n",
       "      <th>name</th>\n",
       "      <th>company_linkedin_names</th>\n",
       "      <th>description</th>\n",
       "      <th>headcount</th>\n",
       "      <th>founding_date</th>\n",
       "      <th>most_recent_raise</th>\n",
       "      <th>most_recent_valuation</th>\n",
       "      <th>investors</th>\n",
       "      <th>known_total_funding</th>\n",
       "    </tr>\n",
       "  </thead>\n",
       "  <tbody>\n",
       "    <tr>\n",
       "      <th>0</th>\n",
       "      <td>0</td>\n",
       "      <td>ORSYP</td>\n",
       "      <td>orsyp</td>\n",
       "      <td>IT Operations Management Specialists At ORSYP ...</td>\n",
       "      <td>63.0</td>\n",
       "      <td>1986-01-01</td>\n",
       "      <td>NaN</td>\n",
       "      <td>NaN</td>\n",
       "      <td>None</td>\n",
       "      <td>NaN</td>\n",
       "    </tr>\n",
       "    <tr>\n",
       "      <th>1</th>\n",
       "      <td>1</td>\n",
       "      <td>Runwal</td>\n",
       "      <td>runwal</td>\n",
       "      <td>The Runwal Group was established in 1978 by it...</td>\n",
       "      <td>406.0</td>\n",
       "      <td>1978-01-01</td>\n",
       "      <td>NaN</td>\n",
       "      <td>NaN</td>\n",
       "      <td>Brand Capital</td>\n",
       "      <td>NaN</td>\n",
       "    </tr>\n",
       "    <tr>\n",
       "      <th>2</th>\n",
       "      <td>2</td>\n",
       "      <td>Toast</td>\n",
       "      <td>toast-inc</td>\n",
       "      <td>Toast empowers restaurants of all sizes to bui...</td>\n",
       "      <td>3580.0</td>\n",
       "      <td>2011-12-22</td>\n",
       "      <td>400000000.0</td>\n",
       "      <td>4.900000e+09</td>\n",
       "      <td>Eight Roads Ventures, Greenoaks Capital, T. Ro...</td>\n",
       "      <td>899000000.0</td>\n",
       "    </tr>\n",
       "    <tr>\n",
       "      <th>3</th>\n",
       "      <td>3</td>\n",
       "      <td>DNA Medicine Institute</td>\n",
       "      <td>dna-medicine-institute</td>\n",
       "      <td>The DNA Medicine Institute, Inc. (DMI) is a me...</td>\n",
       "      <td>2.0</td>\n",
       "      <td>2004-01-01</td>\n",
       "      <td>NaN</td>\n",
       "      <td>NaN</td>\n",
       "      <td>None</td>\n",
       "      <td>NaN</td>\n",
       "    </tr>\n",
       "    <tr>\n",
       "      <th>4</th>\n",
       "      <td>4</td>\n",
       "      <td>Ally</td>\n",
       "      <td>ally</td>\n",
       "      <td>Ally Financial Inc. (NYSE: ALLY) is a leading ...</td>\n",
       "      <td>12120.0</td>\n",
       "      <td>1919-01-01</td>\n",
       "      <td>NaN</td>\n",
       "      <td>NaN</td>\n",
       "      <td>None</td>\n",
       "      <td>NaN</td>\n",
       "    </tr>\n",
       "  </tbody>\n",
       "</table>\n",
       "</div>"
      ],
      "text/plain": [
       "   company_id                    name  company_linkedin_names  \\\n",
       "0           0                   ORSYP                   orsyp   \n",
       "1           1                  Runwal                  runwal   \n",
       "2           2                   Toast               toast-inc   \n",
       "3           3  DNA Medicine Institute  dna-medicine-institute   \n",
       "4           4                    Ally                    ally   \n",
       "\n",
       "                                         description  headcount founding_date  \\\n",
       "0  IT Operations Management Specialists At ORSYP ...       63.0    1986-01-01   \n",
       "1  The Runwal Group was established in 1978 by it...      406.0    1978-01-01   \n",
       "2  Toast empowers restaurants of all sizes to bui...     3580.0    2011-12-22   \n",
       "3  The DNA Medicine Institute, Inc. (DMI) is a me...        2.0    2004-01-01   \n",
       "4  Ally Financial Inc. (NYSE: ALLY) is a leading ...    12120.0    1919-01-01   \n",
       "\n",
       "   most_recent_raise  most_recent_valuation  \\\n",
       "0                NaN                    NaN   \n",
       "1                NaN                    NaN   \n",
       "2        400000000.0           4.900000e+09   \n",
       "3                NaN                    NaN   \n",
       "4                NaN                    NaN   \n",
       "\n",
       "                                           investors  known_total_funding  \n",
       "0                                               None                  NaN  \n",
       "1                                      Brand Capital                  NaN  \n",
       "2  Eight Roads Ventures, Greenoaks Capital, T. Ro...          899000000.0  \n",
       "3                                               None                  NaN  \n",
       "4                                               None                  NaN  "
      ]
     },
     "execution_count": 21,
     "metadata": {},
     "output_type": "execute_result"
    }
   ],
   "source": [
    "sqleto.execute_DQL(\n",
    "    '''SELECT * from companies''').head()"
   ]
  },
  {
   "cell_type": "code",
   "execution_count": 22,
   "metadata": {},
   "outputs": [
    {
     "data": {
      "text/html": [
       "<div>\n",
       "<style scoped>\n",
       "    .dataframe tbody tr th:only-of-type {\n",
       "        vertical-align: middle;\n",
       "    }\n",
       "\n",
       "    .dataframe tbody tr th {\n",
       "        vertical-align: top;\n",
       "    }\n",
       "\n",
       "    .dataframe thead th {\n",
       "        text-align: right;\n",
       "    }\n",
       "</style>\n",
       "<table border=\"1\" class=\"dataframe\">\n",
       "  <thead>\n",
       "    <tr style=\"text-align: right;\">\n",
       "      <th></th>\n",
       "      <th>people_id</th>\n",
       "      <th>person_id</th>\n",
       "      <th>company_name</th>\n",
       "      <th>company_li_name</th>\n",
       "      <th>last_title</th>\n",
       "      <th>group_start_date</th>\n",
       "      <th>group_end_date</th>\n",
       "    </tr>\n",
       "  </thead>\n",
       "  <tbody>\n",
       "    <tr>\n",
       "      <th>0</th>\n",
       "      <td>0</td>\n",
       "      <td>9fb750ce-4acd-40d6-a58b-f6718342364f</td>\n",
       "      <td>GoCardless</td>\n",
       "      <td>gocardless</td>\n",
       "      <td>Software Engineer</td>\n",
       "      <td>2019-01-01</td>\n",
       "      <td>2020-01-01</td>\n",
       "    </tr>\n",
       "    <tr>\n",
       "      <th>1</th>\n",
       "      <td>1</td>\n",
       "      <td>9fb750ce-4acd-40d6-a58b-f6718342364f</td>\n",
       "      <td>Stealth startup</td>\n",
       "      <td>online-shoe-store</td>\n",
       "      <td>Founder / CTO</td>\n",
       "      <td>2018-01-01</td>\n",
       "      <td>2019-01-01</td>\n",
       "    </tr>\n",
       "    <tr>\n",
       "      <th>2</th>\n",
       "      <td>2</td>\n",
       "      <td>9fb750ce-4acd-40d6-a58b-f6718342364f</td>\n",
       "      <td>Arkera</td>\n",
       "      <td>arkera</td>\n",
       "      <td>Software Engineer</td>\n",
       "      <td>2017-01-01</td>\n",
       "      <td>2018-01-01</td>\n",
       "    </tr>\n",
       "    <tr>\n",
       "      <th>3</th>\n",
       "      <td>3</td>\n",
       "      <td>9fb750ce-4acd-40d6-a58b-f6718342364f</td>\n",
       "      <td>Imperial College London</td>\n",
       "      <td>imperial-college-london</td>\n",
       "      <td>UTA (Undergraduate Teaching Assistant)</td>\n",
       "      <td>2016-01-01</td>\n",
       "      <td>2017-01-01</td>\n",
       "    </tr>\n",
       "    <tr>\n",
       "      <th>4</th>\n",
       "      <td>4</td>\n",
       "      <td>15f5d8ed-36ad-4cf7-8748-c50dc9589f59</td>\n",
       "      <td>Splunk</td>\n",
       "      <td>splunk</td>\n",
       "      <td>Software Engineer</td>\n",
       "      <td>2019-10-01</td>\n",
       "      <td>None</td>\n",
       "    </tr>\n",
       "  </tbody>\n",
       "</table>\n",
       "</div>"
      ],
      "text/plain": [
       "   people_id                             person_id             company_name  \\\n",
       "0          0  9fb750ce-4acd-40d6-a58b-f6718342364f               GoCardless   \n",
       "1          1  9fb750ce-4acd-40d6-a58b-f6718342364f          Stealth startup   \n",
       "2          2  9fb750ce-4acd-40d6-a58b-f6718342364f                   Arkera   \n",
       "3          3  9fb750ce-4acd-40d6-a58b-f6718342364f  Imperial College London   \n",
       "4          4  15f5d8ed-36ad-4cf7-8748-c50dc9589f59                   Splunk   \n",
       "\n",
       "           company_li_name                              last_title  \\\n",
       "0               gocardless                       Software Engineer   \n",
       "1        online-shoe-store                           Founder / CTO   \n",
       "2                   arkera                       Software Engineer   \n",
       "3  imperial-college-london  UTA (Undergraduate Teaching Assistant)   \n",
       "4                   splunk                       Software Engineer   \n",
       "\n",
       "  group_start_date group_end_date  \n",
       "0       2019-01-01     2020-01-01  \n",
       "1       2018-01-01     2019-01-01  \n",
       "2       2017-01-01     2018-01-01  \n",
       "3       2016-01-01     2017-01-01  \n",
       "4       2019-10-01           None  "
      ]
     },
     "execution_count": 22,
     "metadata": {},
     "output_type": "execute_result"
    }
   ],
   "source": [
    "sqleto.execute_DQL(\n",
    "    '''SELECT * from people''').head()"
   ]
  }
 ],
 "metadata": {
  "kernelspec": {
   "display_name": "Python 3.10.4 ('study')",
   "language": "python",
   "name": "python3"
  },
  "language_info": {
   "codemirror_mode": {
    "name": "ipython",
    "version": 3
   },
   "file_extension": ".py",
   "mimetype": "text/x-python",
   "name": "python",
   "nbconvert_exporter": "python",
   "pygments_lexer": "ipython3",
   "version": "3.10.4"
  },
  "orig_nbformat": 4,
  "vscode": {
   "interpreter": {
    "hash": "1b9251e2362d10317da5c121b652dc9d75684a5f0e3d5ea62513a1d2b29f72a3"
   }
  }
 },
 "nbformat": 4,
 "nbformat_minor": 2
}
